{
  "nbformat": 4,
  "nbformat_minor": 0,
  "metadata": {
    "colab": {
      "name": "Copy of Copy of MeetupPython.ipynb",
      "provenance": [],
      "collapsed_sections": [],
      "authorship_tag": "ABX9TyNBqoAhlMaJckxtRDCb/kp1",
      "include_colab_link": true
    },
    "kernelspec": {
      "name": "python3",
      "display_name": "Python 3"
    },
    "language_info": {
      "name": "python"
    }
  },
  "cells": [
    {
      "cell_type": "markdown",
      "metadata": {
        "id": "view-in-github",
        "colab_type": "text"
      },
      "source": [
        "<a href=\"https://colab.research.google.com/github/candy-o/labs/blob/master/MeetupPythonv6.ipynb\" target=\"_parent\"><img src=\"https://colab.research.google.com/assets/colab-badge.svg\" alt=\"Open In Colab\"/></a>"
      ]
    },
    {
      "cell_type": "code",
      "metadata": {
        "colab": {
          "base_uri": "https://localhost:8080/",
          "height": 1000
        },
        "id": "FvEcE8F3axDw",
        "outputId": "06818db0-feee-49e9-d459-c8e9b96cce48"
      },
      "source": [
        "# Intro to python coding 7/25/2021 Homework \n",
        "# Candace O'Sullivan-Sutherland\n",
        "# given a 3 digit number\n",
        "# print the sum of the digits\n",
        "# a = 123\n",
        "# print(a%10)  # any number modulus 10 gives the last number\n",
        "# b =  a//10 # 12\n",
        "# print(b%10)\n",
        "# print(a//10) # floor division => to get only the non decimal part\n",
        "# Think then code\n",
        "\n",
        "import matplotlib.pyplot as plt\n",
        "import time\n",
        "time.time() * 1000\n",
        "\n",
        "a     =  123    # This is the number\n",
        "\n",
        "# Brute Force method: \n",
        "brute_start_time = time.time()\n",
        "a1 = a2 = a3 = b = c = a_sum = 0  # Initialize variables\n",
        "b      =  a//10        # 123%10 = 12\n",
        "c      =  b//10        # 12%10  = 1\n",
        "\n",
        "a1     =  a%10         # 123%10 = 3 \n",
        "a2     =  b%10         # 12%10  = 2\n",
        "a3     =  c%10         # 1%10   = 1\n",
        "\n",
        "a_sum  =  a1+a2+a3     # 3 + 2 + 1 = 6 \n",
        "\n",
        "print (\"\\033[1m\" + \"Brute Force Method: (Hardcoded to 3 digits)\" + \"\\033[0m\")\n",
        "#print '\\033[1m  Your Name  \\033[0m'\n",
        "print (\"First use Floor division // to get only the non decimal part\")\n",
        "print(\" a           =\", a)\n",
        "print(\" b = a//10   =\", b)\n",
        "print(\" c = b//10   =\", c)\n",
        "print (\"Then use number modulus 10 to get the last number\")\n",
        "print(\" a1 = a%10   =\", a1)\n",
        "print(\" a2 = b%10   =\", a2)\n",
        "print(\" a3 = c%10   =\", a3)\n",
        "print(\"a =\",a,\"b =\",b,\"c =\",c,\"a1 =\", a1,\"a2 =\",a2,\"a3 =\",a3)\n",
        "print(\"The Sum of the Digits(last three)\", a ,\"=\", a_sum)\n",
        "brute_elapsed_time = time.time() - brute_start_time\n",
        "print(\"\\n\")\n",
        "\n",
        "for_start_time = time.time()\n",
        "print (\"\\033[1m\" + \"For Loop Method:\" + \"\\033[0m\")\n",
        "sum=0\n",
        "for n in str(a):\n",
        " print(\"  n   =\", n)\n",
        " sum = sum + int(n)\n",
        " print(\"  sum =\", sum)  \n",
        "print(\"The Sum of the last three Digits\", a ,\"=\", sum)\n",
        "for_elapsed_time = time.time() - for_start_time\n",
        "print(\"\\n\")\n",
        "\n",
        "# Using a while loop, get each digit of the number and add the digits to a variable.\n",
        "# Print the sum of the digits of the number.\n",
        "# Exit.\n",
        "while_start_time = time.time()\n",
        "print (\"\\033[1m\" + \"While Loop Method:\" + \"\\033[0m\")\n",
        "sum = 0\n",
        "num = a\n",
        "while(num > 0):\n",
        "    print(\"  a =  \", num)    \n",
        "    x = num % 10\n",
        "    print(\"  x =  \", x)\n",
        "    sum = sum + x\n",
        "    print(\"  sum =\", sum)\n",
        "    num = num //10\n",
        "print(\"The Sum of The Digits\", a,\"=\", sum)\n",
        "while_elapsed_time = time.time() - while_start_time\n",
        "print(\"\\n\")\n",
        "\n",
        "# Recursive algorithm is a method of simplification that divides the problem into sub-problems of the same nature. \n",
        "# The result of one recursion is the input for the next recursion.\n",
        "# a     =  123     # a = 123\n",
        "recursion_start_time = time.time()\n",
        "print (\"\\033[1m\" + \"Recursion Method:\" + \"\\033[0m\")\n",
        "def sum_of_a( x ):\n",
        "    print(\"  x = \",x)\n",
        "    if x == 0:\n",
        "        return 0\n",
        "    return (x % 10 + sum_of_a(int(x // 10)))\n",
        "\n",
        "#Pass 1 is 123%10 result is 3 + with 123/10 sent to next pass ) \n",
        "#Pass 2 is 12%10  result is 2 + with 12/10  sent to next pass ) \n",
        "#Pass 3 is 1%10   result is 1 + with 1/10   sent to next pass ) \n",
        "#Pass 4 x == 0    algorithm stops \n",
        " \n",
        "a_sum_rec = sum_of_a(a)\n",
        "print(\"The Sum of the Digits\", a ,\"=\", a_sum_rec)\n",
        "recursion_elapsed_time = time.time() - recursion_start_time\n",
        "print(\"\\n\")\n",
        "\n",
        "print (\"\\033[1m\" + \"Performance Results:\" + \"\\033[0m\")\n",
        "\n",
        "T = []\n",
        "T.append(brute_elapsed_time)\n",
        "T.append(for_elapsed_time)\n",
        "T.append(while_elapsed_time)\n",
        "T.append(recursion_elapsed_time)\n",
        "#print(T)\n",
        "\n",
        "# naming the x-axis\n",
        "plt.xlabel('Algorithm used')\n",
        "# naming the y-axis\n",
        "plt.ylabel('Response Time (ms')\n",
        "# plot title\n",
        "plt.title('Performance Results')\n",
        "# x-coordinates of left sides of bars \n",
        "left = [1, 2, 3, 4]\n",
        "plt.yticks = [ 0, 0.05, 0.1, 0.15]\n",
        "# labels for bars\n",
        "tick_label = ['Brute Force', 'For Loop', 'While Loop', 'Recursive']\n",
        "plt.bar(left, T, tick_label = tick_label, width = 0.8, color = ['red', 'green'])\n",
        "# function to show the plot\n",
        "plt.show()\n",
        "print(\"Brute Force Time     =\", brute_elapsed_time)\n",
        "print(\"For Loop Time        =\", for_elapsed_time)\n",
        "print(\"While Loop Time      =\", while_elapsed_time)\n",
        "print(\"Recursion Time       =\", recursion_elapsed_time)\n",
        "print(\"\\n\")\n"
      ],
      "execution_count": 24,
      "outputs": [
        {
          "output_type": "stream",
          "text": [
            "\u001b[1mBrute Force Method: (Hardcoded to 3 digits)\u001b[0m\n",
            "First use Floor division // to get only the non decimal part\n",
            " a           = 123\n",
            " b = a//10   = 12\n",
            " c = b//10   = 1\n",
            "Then use number modulus 10 to get the last number\n",
            " a1 = a%10   = 3\n",
            " a2 = b%10   = 2\n",
            " a3 = c%10   = 1\n",
            "a = 123 b = 12 c = 1 a1 = 3 a2 = 2 a3 = 1\n",
            "The Sum of the Digits(last three) 123 = 6\n",
            "\n",
            "\n",
            "\u001b[1mFor Loop Method:\u001b[0m\n",
            "  n   = 1\n",
            "  sum = 1\n",
            "  n   = 2\n",
            "  sum = 3\n",
            "  n   = 3\n",
            "  sum = 6\n",
            "The Sum of the last three Digits 123 = 6\n",
            "\n",
            "\n",
            "\u001b[1mWhile Loop Method:\u001b[0m\n",
            "  a =   123\n",
            "  x =   3\n",
            "  sum = 3\n",
            "  a =   12\n",
            "  x =   2\n",
            "  sum = 5\n",
            "  a =   1\n",
            "  x =   1\n",
            "  sum = 6\n",
            "The Sum of The Digits 123 = 6\n",
            "\n",
            "\n",
            "\u001b[1mRecursion Method:\u001b[0m\n",
            "  x =  123\n",
            "  x =  12\n",
            "  x =  1\n",
            "  x =  0\n",
            "The Sum of the Digits 123 = 6\n",
            "\n",
            "\n",
            "\u001b[1mPerformance Results:\u001b[0m\n"
          ],
          "name": "stdout"
        },
        {
          "output_type": "display_data",
          "data": {
            "image/png": "[encoded data removed]",
            "text/plain": [
              "<Figure size 432x288 with 1 Axes>"
            ]
          },
          "metadata": {
            "tags": [],
            "needs_background": "light"
          }
        },
        {
          "output_type": "stream",
          "text": [
            "Brute Force Time     = 0.0014224052429199219\n",
            "For Loop Time        = 0.001903533935546875\n",
            "While Loop Time      = 0.0008084774017333984\n",
            "Recursion Time       = 0.00055694580078125\n",
            "\n",
            "\n"
          ],
          "name": "stdout"
        }
      ]
    },
    {
      "cell_type": "code",
      "metadata": {
        "id": "WlktkTgFgAZH",
        "colab": {
          "base_uri": "https://localhost:8080/"
        },
        "outputId": "2f9e2941-1c25-4e86-8c2c-eecfaff75395"
      },
      "source": [
        "volumeA = 100\n",
        "volumeB = 20\n",
        "volumeC = 10\n",
        "\n",
        "lst =  map(lambda x : x[1], filter(lambda x : x[0].startswith('volume'), globals().items()))\n",
        "print(lst)\n"
      ],
      "execution_count": null,
      "outputs": [
        {
          "output_type": "stream",
          "text": [
            "<map object at 0x7fdde886c7d0>\n"
          ],
          "name": "stdout"
        }
      ]
    },
    {
      "cell_type": "code",
      "metadata": {
        "id": "VGWAcx1FWUR6",
        "colab": {
          "base_uri": "https://localhost:8080/"
        },
        "outputId": "b67f0d55-2ce2-432d-e8db-8b63fb0f5eda"
      },
      "source": [
        "# Python code to convert string to list\n",
        "  \n",
        "def Convert(string):\n",
        "    li = list(string.split(\" \"))\n",
        "    return li\n",
        "  \n",
        "# Driver code    \n",
        "str1 = \"Geeks for Geeks\"\n",
        "print(Convert(str1))\n",
        "\n",
        "\n"
      ],
      "execution_count": null,
      "outputs": [
        {
          "output_type": "stream",
          "text": [
            "['Geeks', 'for', 'Geeks']\n"
          ],
          "name": "stdout"
        }
      ]
    },
    {
      "cell_type": "code",
      "metadata": {
        "id": "ZSW87J3iYCOy"
      },
      "source": [
        "def runningSum(aList):\n",
        "    theSum = 0\n",
        "    for i in aList:\n",
        "        theSum = theSum + i\n",
        "    return theSum"
      ],
      "execution_count": null,
      "outputs": []
    },
    {
      "cell_type": "code",
      "metadata": {
        "colab": {
          "base_uri": "https://localhost:8080/",
          "height": 306
        },
        "id": "NtG6sxje3o1q",
        "outputId": "53724c19-9a7e-486b-8a9f-69bb51316349"
      },
      "source": [
        "import matplotlib.pyplot as plt\n",
        "x = [1, 2, 3, 4]\n",
        "y = [0.004951000213623047, 0.0017006397247314453, 0.005647420883178711, 0.001837015151977539]\n",
        "# y = [0.004951000213623047, 0.00000038, 0.00000054, 0.00000035]\n",
        "# labels = ['Geeks1', 'Geeks2', 'Geeks3', 'Geeks4']\n",
        "labels = ['Brute Force', 'For Loop', 'While Loop', 'Recursive']\n",
        "\n",
        "#run 1\n",
        "# Brute Force Time     = 0.004951000213623047\n",
        "# For Force Time       = 0.0017006397247314453\n",
        "# While Force Time     = 0.005647420883178711\n",
        "# Recursion Force Time = 0.001837015151977539\n",
        "\n",
        "plt.plot(x, y)\n",
        "  \n",
        "# You can specify a rotation for the tick\n",
        "# labels in degrees or with keywords.\n",
        "plt.xticks(x, labels, rotation ='vertical')\n",
        "  \n",
        "# Pad margins so that markers don't get \n",
        "# clipped by the axes\n",
        "plt.margins(0.2)\n",
        "  \n",
        "# Tweak spacing to prevent clipping of tick-labels\n",
        "plt.subplots_adjust(bottom = 0.15)\n",
        "plt.show()\n"
      ],
      "execution_count": null,
      "outputs": [
        {
          "output_type": "display_data",
          "data": {
            "image/png": "[encoded data removed]",
            "text/plain": [
              "<Figure size 432x288 with 1 Axes>"
            ]
          },
          "metadata": {
            "tags": [],
            "needs_background": "light"
          }
        }
      ]
    }
  ]
}