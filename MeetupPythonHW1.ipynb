{
  "nbformat": 4,
  "nbformat_minor": 0,
  "metadata": {
    "colab": {
      "name": "MeetupPython.ipynb",
      "provenance": [],
      "authorship_tag": "ABX9TyOquF5vaNq0meIl6/jtvUAu",
      "include_colab_link": true
    },
    "kernelspec": {
      "name": "python3",
      "display_name": "Python 3"
    },
    "language_info": {
      "name": "python"
    }
  },
  "cells": [
    {
      "cell_type": "markdown",
      "metadata": {
        "id": "view-in-github",
        "colab_type": "text"
      },
      "source": [
        "<a href=\"https://colab.research.google.com/github/candy-o/labs/blob/master/MeetupPythonHW1.ipynb\" target=\"_parent\"><img src=\"https://colab.research.google.com/assets/colab-badge.svg\" alt=\"Open In Colab\"/></a>"
      ]
    },
    {
      "cell_type": "code",
      "metadata": {
        "colab": {
          "base_uri": "https://localhost:8080/"
        },
        "id": "FvEcE8F3axDw",
        "outputId": "5fa8cfab-3da6-4b50-f5a4-4a0db53f70cf"
      },
      "source": [
        "# Intro to python coding 7/25/2021 Homework \n",
        "# given a 3 digit number\n",
        "# print the sum of the digits\n",
        "# a = 123\n",
        "# print(a%10)  # any number modulus 10 gives the last number\n",
        "# b =  a//10 # 12\n",
        "# print(b%10)\n",
        "# print(a//10) # floor division => to get only the non decimal part\n",
        "# Think and code\n",
        "\n",
        "a1 = a2 = a3 = b = a_sum = 0\n",
        "a     =  123     # a = 123\n",
        "\n",
        "# Brute Force method: \n",
        "b      =  a//10        # 123%10 = 12\n",
        "c      =  b//10        # 12%10  = 1\n",
        "\n",
        "a1     =  a%10         # 123%10 = 3 \n",
        "a2     =  b%10         # 12%10  = 2\n",
        "a3     =  c%10         # 1%10   = 1\n",
        "\n",
        "a_sum  =  a1+a2+a3     # 3 + 2 + 1 = 6 \n",
        "\n",
        "print (\"Brute Force Method:\")\n",
        "print (\"First use Floor division // to get only the non decimal part\")\n",
        "print(\" a           =\", a)\n",
        "print(\" b = a//10   =\", b)\n",
        "print(\" c = b//10   =\", c)\n",
        "print (\"Then use number modulus 10 to get the last number\")\n",
        "print(\" a1 = a%10   =\", a1)\n",
        "print(\" a2 = b%10   =\", a2)\n",
        "print(\" a3 = c%10   =\", a3)\n",
        "print(\"The Sum of The Digits 123 = \", a_sum)\n",
        "\n",
        "# Recursive algorithm is a method of simplification that divides the problem into sub-problems of the same nature. \n",
        "# The result of one recursion is the input for the next recursion.\n",
        "\n",
        "print (\"\\n\")\n",
        "print (\"Recursion Method:\")\n",
        "def sum_of_a( x ):\n",
        "    print(\"  x = \",x)\n",
        "    if x == 0:\n",
        "        return 0\n",
        "    return (x % 10 + sum_of_a(int(x / 10)))\n",
        "\n",
        "#Pass 1 is 123%10 result is 3 + with 123/10 sent to next pass ) \n",
        "#Pass 2 is 12%10  result is 2 + with 12/10  sent to next pass ) \n",
        "#Pass 3 is 1%10   result is 1 + with 1/10   sent to next pass ) \n",
        "#Pass 4 x == 0    algorithm stops \n",
        " \n",
        "a_sum_rec = sum_of_a(a)\n",
        "print(\"The Sum of the Digits\", a ,\"=\", a_sum_rec)\n",
        "\n",
        "\n",
        "\n"
      ],
      "execution_count": 58,
      "outputs": [
        {
          "output_type": "stream",
          "text": [
            "Brute Force Method:\n",
            "First use Floor division // to get only the non decimal part\n",
            " a           = 123\n",
            " b = a//10   = 12\n",
            " c = b//10   = 1\n",
            "Then use number modulus 10 to get the last number\n",
            " a1 = a%10   = 3\n",
            " a2 = b%10   = 2\n",
            " a3 = c%10   = 1\n",
            "The Sum of The Digits 123 =  6\n",
            "\n",
            "\n",
            "Recursion Method:\n",
            "  x =  123\n",
            "  x =  12\n",
            "  x =  1\n",
            "  x =  0\n",
            "The Sum of the Digits 123 = 6\n"
          ],
          "name": "stdout"
        }
      ]
    },
    {
      "cell_type": "code",
      "metadata": {
        "id": "WlktkTgFgAZH"
      },
      "source": [
        ""
      ],
      "execution_count": null,
      "outputs": []
    }
  ]
}