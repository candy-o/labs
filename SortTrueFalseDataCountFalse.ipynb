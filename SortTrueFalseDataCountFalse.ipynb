{
  "nbformat": 4,
  "nbformat_minor": 0,
  "metadata": {
    "kernelspec": {
      "display_name": "Python 3",
      "language": "python",
      "name": "python3"
    },
    "language_info": {
      "codemirror_mode": {
        "name": "ipython",
        "version": 3
      },
      "file_extension": ".py",
      "mimetype": "text/x-python",
      "name": "python",
      "nbconvert_exporter": "python",
      "pygments_lexer": "ipython3",
      "version": "3.7.3"
    },
    "colab": {
      "name": "SortTrueFalseDataCountFalse.ipynb",
      "provenance": [],
      "include_colab_link": true
    }
  },
  "cells": [
    {
      "cell_type": "markdown",
      "metadata": {
        "id": "view-in-github",
        "colab_type": "text"
      },
      "source": [
        "<a href=\"https://colab.research.google.com/github/candy-o/labs/blob/master/SortTrueFalseDataCountFalse.ipynb\" target=\"_parent\"><img src=\"https://colab.research.google.com/assets/colab-badge.svg\" alt=\"Open In Colab\"/></a>"
      ]
    },
    {
      "cell_type": "code",
      "metadata": {
        "id": "hinE0FWHcaKT",
        "colab_type": "code",
        "colab": {
          "base_uri": "https://localhost:8080/",
          "height": 102
        },
        "outputId": "5cc36524-0157-4667-f083-5ca2b8a438dd"
      },
      "source": [
        "#Here are two columns, with 6 rows each, comprised of two different words (true and false)\n",
        "data = [[\"true\", \"false\"],[\"true\", \"true\"], [\"false\", \"false\"],\n",
        "        [\"false\", \"false\"], [\"false\", \"true\"], [\"true\", \"false\"]]\n",
        "print('Print Unsorted Data:')\n",
        "print(data)\n",
        "\n",
        "# sort the words\n",
        "data.sort()\n",
        "print('Print Sorted Data:')\n",
        "print(data)\n",
        "\n",
        "#identify and count how many times the word false appears\n",
        "falseCnt = 0\n",
        "for rowi in range(0,6):\n",
        "     for coli in range(0,2):\n",
        "         if len(data[rowi][coli]) > 4:\n",
        "                falseCnt = falseCnt + 1\n",
        "               \n",
        "\n",
        "print('The word \"false\" occurs %g many times in the data' %(falseCnt))"
      ],
      "execution_count": 2,
      "outputs": [
        {
          "output_type": "stream",
          "text": [
            "Print Unsorted Data:\n",
            "[['true', 'false'], ['true', 'true'], ['false', 'false'], ['false', 'false'], ['false', 'true'], ['true', 'false']]\n",
            "Print Sorted Data:\n",
            "[['false', 'false'], ['false', 'false'], ['false', 'true'], ['true', 'false'], ['true', 'false'], ['true', 'true']]\n",
            "The word \"false\" occurs 7 many times in the data\n"
          ],
          "name": "stdout"
        }
      ]
    },
    {
      "cell_type": "code",
      "metadata": {
        "id": "m7nnMpREcaKa",
        "colab_type": "code",
        "colab": {}
      },
      "source": [
        ""
      ],
      "execution_count": 0,
      "outputs": []
    }
  ]
}